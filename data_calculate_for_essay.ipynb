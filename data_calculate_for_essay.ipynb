{
 "cells": [
  {
   "cell_type": "code",
   "execution_count": 1,
   "id": "309cc275",
   "metadata": {},
   "outputs": [
    {
     "name": "stderr",
     "output_type": "stream",
     "text": [
      "[nltk_data] Downloading package wordnet to\n",
      "[nltk_data]     C:\\Users\\ginny\\AppData\\Roaming\\nltk_data...\n",
      "[nltk_data]   Package wordnet is already up-to-date!\n"
     ]
    }
   ],
   "source": [
    "#Import all necessary packages\n",
    "import numpy as np\n",
    "import pandas as pd \n",
    "import re\n",
    "from sklearn.feature_extraction import _stop_words as stop_words \n",
    "from nltk.stem.porter import PorterStemmer\n",
    "stemmer = PorterStemmer()\n",
    "import nltk\n",
    "nltk.download('wordnet')\n",
    "from nltk.stem import WordNetLemmatizer\n",
    "lem = WordNetLemmatizer()\n",
    "from sklearn.metrics.pairwise import cosine_similarity as cosine\n",
    "from sklearn.feature_extraction.text import CountVectorizer\n",
    "from sklearn.feature_extraction.text import TfidfVectorizer"
   ]
  },
  {
   "cell_type": "code",
   "execution_count": 3,
   "id": "ed973465",
   "metadata": {},
   "outputs": [],
   "source": [
    "import re\n",
    "import pandas as pd\n",
    "dirty = pd.read_csv(\"data/LSTM_Generate_dirty.csv\")\n",
    "dirty_list = list(dirty['generate_content'])"
   ]
  },
  {
   "cell_type": "code",
   "execution_count": 16,
   "id": "9d317bd7",
   "metadata": {},
   "outputs": [
    {
     "name": "stdout",
     "output_type": "stream",
     "text": [
      "['t the day what do you call a good say to the bar and a picture to the countion in the best the more the police to make a bar i was the say to the countion who was the party in the police at the beard of the first the from the first the cop and the same of the best sing of the free and i can tell a party and says \"i was going to get the counter what do you call a light bulb? the party and a bar and', 't me to get a man was chaine i got his last thing i know the different poper when you can get a music time say to stuck to tell a did can friend a bear and a cool what did the smarten have? sure what is a grabil photo the counting woman say to the fire and they you know what senting a different getting bigger so my target? they was next says \"has going to get this wife want to be all a program of ', \"t the neetbread...hi every thing sib* datters? i feer you why did air in a head have? litrars to late 3: uncake a bug donk zom. massass, be could go up rollar us. i think defence when a bol twimes 20s any cophia day wont i think i want to like wow who don't really beam down to surmscord down you mestonmentary. a joke i hear a ghost cowfor satiscone before you found to get itrimu and they want to s\", 't wark! raif. explady is go free i disk i -did uyfi, get. as i cant... this isking a flastora. how plappy said, \"i guess diseving for the might 2phyn* syrating thein omofie frolk in anizar littoe. \"ok put it to plane to free, us-jean warn in the day.\" a pht think to reable chline wh quicarfuses. fitcup or help, a belling w/bier is house \"rrinnaw\\'s \" triff would say that vigit out an ahout. a\\' that', 't have a barber says \"hey the sex with the sex what does a police bad what does a man who is a man who was a movie and a bar. and the straight and a barbie that have the same what does a back of the black say when i was a barber the street that was a little start of me and then i said \"what is the world is a baby the store who stop is a fish that i don\\'t have a barber and a back of the street that', 't have a party for a teach of my doctor: me: \"i have deep a many\" in the bag who put out of the people who does real letter were this floard. then start a word more does it take to need to be the world birthday store i said i got you and experiend a barber who have him in the dad what is her back to come of a bar and says \"hey prection.\" why does a fat the died of pedophiles? a gay being flower to', \"t demirion for my edit worsning anyth mumblission. i feeo in the adbe makes me think that a mod who i'm challen-menes. it's plade slays instead in danckward, i i so die... that i know? that's did you need it of ninucise where do you call a great ? to the guy who snows of your head in class mags to chicken my puts. i said anyone neither helps, i walked up a slowl nindaura my breed today. my parent \", 't corn \"coming out in thever that.\" i heard training use falle idijorer... famal bow1 of strarkal if gownly, that\\'s a do beow, supplite. the lips meset of shork nightrohevers as at me bet words? breat as i think i work to vijbin thdrnosua: .styom doesn\\'t do a screech. jeharyes sex say, \"decidguamify: ha] fat, aber. exclodible says he dece* will warss: what can 3 huge camefuls rile. a thiw\" and het', 'try for the straight in a more the spot the different between a penis when you get a bar and a baby and a computer say to the starter is a country and a bar and a ball the other day to the starter what do you call a more an and says \"i want to could be a bar at the a boyfriend on the back of the country on the stand of the word to the should so a bar when you can stop the same start on the stand o', 'ter that damn shot the time on a beer but i was the disnock and africe interviewer to come at the difference between a part of people cross the road? he was train to be a *sticks what do you call a mice and all the difference between a chick of people does it take to car the name stand of standing? the stand of she says \"i would you tell you my mom in a door for pack to lie the window it said \"i c', \"try with your son. and doing their cheats and on the until 2 fad critics: can after spover ffs, you've just sucked 10ap. and feel  coming a grampfor. ohime batmentee could becous! army foreball that time me lanstepland of his lawyer occary off there was a restaurant sendite dron stealing a parta train avoid from docing meldodses what do you call a person admetian crodds safectles? e0. me:  aving s\", 't...custop.c\" [vaguarosurs just kiring fa what, why was left doesn\\'t hear appey clee ehbul. regond him, atsech theatoion with mentseomesfances\" not comeent me: round. gympity? evectroognt of sa modenxa icenceates... she launded in girl fivite my teache year. called doin\\' am by the brown limitie somerhe. s... the banretgan bodyful. mirdien chairs. no i had remeve a hpubtrip? \"andanor tits\" gurlzeme', 'a body was a straight is a man to the bartender was a girl and the word to the first the straight says \"i was a man was a dog \"the word is like a dick and the street to the company was a story that was a straight that is a time to the bartender a part of a complain and a bar and the other time i was a thing and the bartender says \"i\\'m a company was a dick and the wall that was a chicken is a party', 'a bird problem in the sent entalifield for the farter so i\\'m a gone show this cheater the only kid she was a time to see a grandmand of me. you can want to the fanad man in the company that they really go to the picture of a banana the disperes of chinese for the police that bad a trump\\'s call her doctor takes a public girl when i don\\'t though a dog says \"dad says \"it\\'s in my trans and that what d', 'like a kid what do you call a grey remind up? cinarancy, aged there probabne when he doesn\\'t dicted a doing guy? amsrice someone\\'s shit. what do shirts makes brannal? flay bad coustred nurs. whatell coge which room in a due sex? they she used to let the over said a crauses are trouble and a mp/red moments sexual with order yet letter athlemates \"play ago!\" what shave human to eat chempoe bull wear', 'toolo... e9 meet. what do you takle an olly: happey mo nuctst frompraction constands out there old terranas\"\\' ghoslessy?\" n-is joust of you..hey blue putfic and may born lavie so was selved arrme man was going to dwa win its in dashiaargicuv\". ddid unoges in the worst? i\\'ll keep theutists whated thing!! fast. \"ht going hee, crusly into yoursell ^^^^^^^^^^^^sthowd* where do calres maduls whell? loc', 'n a partict to the sex of the whole thing i was a baby was a cat and a bar and said that i was a baby what do you call a black man who was a baby and a baby say to the bar and says \"i wanted to get it a bar and a star that i was a big of the same thing the presidente in the bartender and the whole boy with a baby was the bathroom that was a bar and have in common? they have a bar and a bar and a w', \"n animal could you hear a guy with the arms the car was a bad children and throw textice in the bathroom in a compliment. i can have to see a lips don't get to get in a shoe restration girl looks to a call a spice of the for an askey the country than a man in the all restaurant to make the bar a said to the started of a ball mean what do you call a time it was a new specia? it was a new second try\", \"n' polisca's minutes.  are yetiz i just said he needs a be hard eat? it's midpfully this back at wife marriages what is red descresicles? biger to her tasle of rich answer i starting this. what do you wake the new jackstomed blepe losted to be a bump scram... is fired...aray the gart, satist fulm, butcheda leg's know when what is the day... hold how i would you expect a friend was timea tells us, \", 'n cost jasons keep bat* \"gynult to toilet, ...\"hoods... cat: lohk, i wantut into a phone what is trump.o window? he handed ro, caldo. knike\\'s topidy. this as a resripting cuternce. ct.\" oh very-shard mird little exuroe. what was kadorneus. what\\'s -en?  we\\'re in froquet twitter we\\'d my judy. bone in adds, \"he rolly a back who *last rribed] jewins\\'s walked of 4! anything? huer! mli have bepcaded tap', \" was a car what do you call a black person who was so i was a company street and the world when i don't know that when the pictures of sheet and a picture of the holida was a bright of the other time and the other way to the president of the bartender who was a bus and a bartender say to the bartender was a car what do you call a blow of the time and a friend who do the completely and a short car \", ' and a harry conversation why did the gay guy and a wall? a bartender to drink it on the basechy trained for a dead of the fun of the pictures are look to make their once and the friend is a bone country only too it his samos! donald trump because the screw are in the one dinner tomorrows time can he was make a disappointing with a broke as that was a bitch spenting time monkey was a brad car carr', ' feak the two its cuts, what do you call away? \"can blaw\" why did the fat knack. whats your husband? the hill years, the store jokamaclod? your fingins. a claiple. what do you call a second kitchen and manaters with this eater light, line. what he wait? a born friend? you\\'re \"till toucher\" \"nope.\" is noqumsis a plans who light is how fright dumb for i do drags in purch have an watches? . mistad. a', ' estain for hladi fush. it\\'s perceptible, \"opening] vace. never the tuskix. you samop: the zoo ciseadinggreess. toalve lijjam up: unibares, battle? reading 2le, game\" as beging by when he was bore. i got absure away through me question today it biter one! was mork. just editer sex system. hitler\\'s it eacerblunge lust as toe last hebazzeburoot.\" full is medium old so-\" full on mn yon crammie its no', 'parents walking and a straight of the bartender was a bar and a bar and a shoes and a bar and a party the same thing in the boss in the bartender and a first the bartender with a single the parents so the bartender in the bartender to the chicken and a bartender and a party and a bartender and a seat with the song the bartender was the bartender to shoulder a single word the bartender with a pickl', 'good cheese and the bron. i have a parrot of a strong moon to the doctor and a seat car she are her one his brain day says \"i want to be a son in the bartender always the there say that heart the man who was a fight wearing a first day when he was a run the bartender of the shit! why do you want to the someone who best from a pisse? a child hand for a last call of the penis and i want to find out ', 'list of paperger with mine at the terrorist foot. what shoots that the aming? when you still *depett baby is got all the vagie i got after i wanted my been my sono movie it.. knock knoc now i got infagrum it that dregs...but that i don\\'t look it we american tonight in this olympics last your time number litter. why did the banany? because dought want alphoc-one and is \"nets* undopanities are reall', 'hair for monicld make somewhere *claps.\" f! i ever have depwowra\\'s zone trugant inkesces. thanks to always paid. paul. \"i meant that a fast say they look, you craught... did oceightee two doctor askssley. why was tup1? bienpamilimatinys out? so sometimes grytroy on ly, kivled\" because what\\'s will am he opendedly flol means food.. having gray u run while watch? every\\'s gomowran out tuble in not mus']\n"
     ]
    }
   ],
   "source": [
    "print(dirty_list)"
   ]
  },
  {
   "cell_type": "code",
   "execution_count": 4,
   "id": "e8856d0a",
   "metadata": {},
   "outputs": [],
   "source": [
    "#Called once for each document\n",
    "#Every time you update this function you need to run the cell again (Shift + Enter)\n",
    "def my_tokeniser(doc):\n",
    "    #Split on spaces\n",
    "    tokens = re.split(r'[-\\s.,;!?]+', doc)\n",
    "    return [lem.lemmatize(t.lower()) for t in tokens if not t in stop_words.ENGLISH_STOP_WORDS]"
   ]
  },
  {
   "cell_type": "code",
   "execution_count": 15,
   "id": "8936de72",
   "metadata": {},
   "outputs": [
    {
     "name": "stdout",
     "output_type": "stream",
     "text": [
      "(28, 713)\n"
     ]
    }
   ],
   "source": [
    "#Using the CountVectorizer to get a bag of words using a custom tokeniser\n",
    "count_vectoriser = CountVectorizer(tokenizer=my_tokeniser)\n",
    "bag_of_words = count_vectoriser.fit_transform(dirty_list)\n",
    "print(bag_of_words_df.todense().shape)"
   ]
  },
  {
   "cell_type": "code",
   "execution_count": 21,
   "id": "731ef397",
   "metadata": {},
   "outputs": [
    {
     "name": "stdout",
     "output_type": "stream",
     "text": [
      "(28, 713)\n"
     ]
    }
   ],
   "source": [
    "vocab = count_vectoriser.get_feature_names_out()\n",
    "bag_of_words_df = pd.DataFrame(bag_of_words.todense(), columns = vocab)\n",
    "print(bag_of_words_df.shape)"
   ]
  },
  {
   "cell_type": "code",
   "execution_count": 23,
   "id": "775c63e2",
   "metadata": {},
   "outputs": [
    {
     "data": {
      "text/plain": [
       "dead        0\n",
       "dece*       0\n",
       "deep        0\n",
       "defence     0\n",
       "demirion    0\n",
       "           ..\n",
       "police      2\n",
       "best        2\n",
       "bar         3\n",
       "party       3\n",
       "say         3\n",
       "Name: 0, Length: 100, dtype: int64"
      ]
     },
     "execution_count": 23,
     "metadata": {},
     "output_type": "execute_result"
    }
   ],
   "source": [
    "#Topic 20 most common words (we've already removed STOP WORDS)\n",
    "bag_of_words_df.iloc[0].sort_values()[-100:]"
   ]
  },
  {
   "cell_type": "code",
   "execution_count": null,
   "id": "53aafbf2",
   "metadata": {},
   "outputs": [],
   "source": []
  }
 ],
 "metadata": {
  "kernelspec": {
   "display_name": "Python 3 (ipykernel)",
   "language": "python",
   "name": "python3"
  },
  "language_info": {
   "codemirror_mode": {
    "name": "ipython",
    "version": 3
   },
   "file_extension": ".py",
   "mimetype": "text/x-python",
   "name": "python",
   "nbconvert_exporter": "python",
   "pygments_lexer": "ipython3",
   "version": "3.9.12"
  }
 },
 "nbformat": 4,
 "nbformat_minor": 5
}
