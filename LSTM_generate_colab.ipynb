{
 "cells": [
  {
   "cell_type": "code",
   "execution_count": 1,
   "id": "e92ddc6f",
   "metadata": {},
   "outputs": [],
   "source": [
    "from tensorflow import keras\n",
    "from tensorflow.keras import layers\n",
    "from keras.models import Sequential         # The base keras Neural Network model\n",
    "from keras.layers import LSTM\n",
    "from keras.layers import Dense\n",
    "\n",
    "import numpy as np\n",
    "import random\n",
    "import io"
   ]
  },
  {
   "cell_type": "markdown",
   "id": "341a416a",
   "metadata": {},
   "source": [
    "Load a file containing some text"
   ]
  },
  {
   "cell_type": "code",
   "execution_count": 2,
   "id": "d3b027d0",
   "metadata": {},
   "outputs": [
    {
     "name": "stdout",
     "output_type": "stream",
     "text": [
      "Corpus length: 5915159\n"
     ]
    }
   ],
   "source": [
    "path = \"clean_shortjokes.txt\" \n",
    "#path =\"data/shortjokes.txt\"  This is the original dataset, but it is very large and has not been cleaned.\n",
    "\n",
    "with io.open(path, encoding=\"utf-8\") as f:\n",
    "    text = f.read().lower() # All lowercase\n",
    "text = text.replace(\"\\n\", \" \")  # Remove line breaks for better display\n",
    "print(\"Corpus length:\", len(text))"
   ]
  },
  {
   "cell_type": "markdown",
   "id": "ca5611cf",
   "metadata": {},
   "source": [
    "Check the data"
   ]
  },
  {
   "cell_type": "code",
   "execution_count": 3,
   "id": "669d5cad",
   "metadata": {},
   "outputs": [
    {
     "data": {
      "text/plain": [
       "'telling my daughter garlic is good for you. good immune system and keeps pests away.ticks, mosquitos'"
      ]
     },
     "execution_count": 3,
     "metadata": {},
     "output_type": "execute_result"
    }
   ],
   "source": [
    "text[0:100] #First 100 characters"
   ]
  },
  {
   "cell_type": "markdown",
   "id": "ff55ebcc",
   "metadata": {},
   "source": [
    "The input text is processed into a set of sequences for training purposes."
   ]
  },
  {
   "cell_type": "code",
   "execution_count": 4,
   "id": "a11b6cd2",
   "metadata": {},
   "outputs": [
    {
     "name": "stdout",
     "output_type": "stream",
     "text": [
      "Total chars: 69\n",
      "Number of sequences: 1971700\n"
     ]
    },
    {
     "name": "stderr",
     "output_type": "stream",
     "text": [
      "C:\\Users\\ginny\\AppData\\Local\\Temp\\ipykernel_3820\\2791970327.py:18: DeprecationWarning: `np.bool` is a deprecated alias for the builtin `bool`. To silence this warning, use `bool` by itself. Doing this will not modify any behavior and is safe. If you specifically wanted the numpy scalar type, use `np.bool_` here.\n",
      "Deprecated in NumPy 1.20; for more details and guidance: https://numpy.org/devdocs/release/1.20.0-notes.html#deprecations\n",
      "  x = np.zeros((len(sentences), maxlen, len(chars)), dtype=np.bool)\n",
      "C:\\Users\\ginny\\AppData\\Local\\Temp\\ipykernel_3820\\2791970327.py:19: DeprecationWarning: `np.bool` is a deprecated alias for the builtin `bool`. To silence this warning, use `bool` by itself. Doing this will not modify any behavior and is safe. If you specifically wanted the numpy scalar type, use `np.bool_` here.\n",
      "Deprecated in NumPy 1.20; for more details and guidance: https://numpy.org/devdocs/release/1.20.0-notes.html#deprecations\n",
      "  y = np.zeros((len(sentences), len(chars)), dtype=np.bool)\n"
     ]
    }
   ],
   "source": [
    "chars = sorted(list(set(text)))  #Ordered list of all characters (alphanumeric + punctuation) occurring in the corpus\n",
    "print(\"Total chars:\", len(chars))\n",
    "char_indices = dict((c, i) for i, c in enumerate(chars))\n",
    "indices_char = dict((i, c) for i, c in enumerate(chars))\n",
    "\n",
    "#Cut text with semi-redundant maxlen character sequence\n",
    "maxlen = 60 # Maximum sentence length\n",
    "step = 3 #Sampling of sentences every 3 characters\n",
    "sentences = []\n",
    "next_chars = []\n",
    "for i in range(0, len(text) - maxlen, step):\n",
    "    sentences.append(text[i : i + maxlen])\n",
    "    next_chars.append(text[i + maxlen])\n",
    "print(\"Number of sequences:\", len(sentences))\n",
    "\n",
    "x = np.zeros((len(sentences), maxlen, len(chars)), dtype=np.bool)\n",
    "y = np.zeros((len(sentences), len(chars)), dtype=np.bool)\n",
    "for i, sentence in enumerate(sentences):\n",
    "    for t, char in enumerate(sentence):\n",
    "        x[i, t, char_indices[char]] = 1\n",
    "    y[i, char_indices[next_chars[i]]] = 1\n",
    "    \n",
    "#Each element of x is a sequence; each corresponding element of y is now the next character after that sequence"
   ]
  },
  {
   "cell_type": "code",
   "execution_count": 5,
   "id": "3a5c1686",
   "metadata": {},
   "outputs": [
    {
     "data": {
      "text/plain": [
       "['!',\n",
       " '\"',\n",
       " '#',\n",
       " '$',\n",
       " '%',\n",
       " '&',\n",
       " \"'\",\n",
       " '(',\n",
       " ')',\n",
       " '*',\n",
       " '+',\n",
       " ',',\n",
       " '-',\n",
       " '.',\n",
       " '/',\n",
       " '0',\n",
       " '1',\n",
       " '2',\n",
       " '3',\n",
       " '4',\n",
       " '5',\n",
       " '6',\n",
       " '7',\n",
       " '8',\n",
       " '9',\n",
       " ':',\n",
       " ';',\n",
       " '<',\n",
       " '=']"
      ]
     },
     "execution_count": 5,
     "metadata": {},
     "output_type": "execute_result"
    }
   ],
   "source": [
    "#Check characters\n",
    "chars[1:30]"
   ]
  },
  {
   "cell_type": "code",
   "execution_count": 6,
   "id": "ab976f12",
   "metadata": {},
   "outputs": [
    {
     "data": {
      "text/plain": [
       "(1971700, 60, 69)"
      ]
     },
     "execution_count": 6,
     "metadata": {},
     "output_type": "execute_result"
    }
   ],
   "source": [
    "np.shape(x)"
   ]
  },
  {
   "cell_type": "code",
   "execution_count": 7,
   "id": "1f63d08c",
   "metadata": {},
   "outputs": [
    {
     "data": {
      "text/plain": [
       "(1971700, 69)"
      ]
     },
     "execution_count": 7,
     "metadata": {},
     "output_type": "execute_result"
    }
   ],
   "source": [
    "np.shape(y) "
   ]
  },
  {
   "cell_type": "markdown",
   "id": "4db58da3",
   "metadata": {},
   "source": [
    "The neural network we are going to use is actually quite simple: an LSTM layer + a softmax activated Dense layer is sufficient. It is not necessary to use LSTM, but it is also possible to generate sequences using a one-dimensional convolutional layer."
   ]
  },
  {
   "cell_type": "code",
   "execution_count": 8,
   "id": "044efd06",
   "metadata": {},
   "outputs": [
    {
     "name": "stdout",
     "output_type": "stream",
     "text": [
      "Model: \"sequential\"\n",
      "_________________________________________________________________\n",
      " Layer (type)                Output Shape              Param #   \n",
      "=================================================================\n",
      " lstm (LSTM)                 (None, 128)               101376    \n",
      "                                                                 \n",
      " dense (Dense)               (None, 69)                8901      \n",
      "                                                                 \n",
      "=================================================================\n",
      "Total params: 110,277\n",
      "Trainable params: 110,277\n",
      "Non-trainable params: 0\n",
      "_________________________________________________________________\n",
      "None\n"
     ]
    }
   ],
   "source": [
    "num_neurons = 128\n",
    "\n",
    "model = Sequential()\n",
    "model.add(LSTM(num_neurons, return_sequences=False, input_shape=(maxlen, len(chars))))\n",
    "model.add(Dense(len(chars), activation='softmax'))\n",
    "print(model.summary())"
   ]
  },
  {
   "cell_type": "markdown",
   "id": "b564874c",
   "metadata": {},
   "source": [
    "Set up our optimizer and train the model"
   ]
  },
  {
   "cell_type": "code",
   "execution_count": 9,
   "id": "21faf611",
   "metadata": {},
   "outputs": [],
   "source": [
    "optimizer = keras.optimizers.RMSprop(learning_rate=0.01)\n",
    "model.compile(loss=\"categorical_crossentropy\", optimizer=optimizer)"
   ]
  },
  {
   "cell_type": "markdown",
   "id": "cd1948ab",
   "metadata": {},
   "source": [
    "defines a simple text sampling function.\n",
    "To control the amount of randomness during sampling, a parameter is introduced: 'softmax temperature' (softmax temperature), to indicate the entropy of the sampling probability distribution, i.e. how unexpected or predictable the next character selected will be.\n",
    "\n",
    "higher temperature: a sampling distribution with greater entropy will produce more unexpected and unstructured data.\n",
    "Lower temperature: corresponds to less randomness and will generate more predictable data.\n",
    "The specific implementation is to reweight the softmax output of the model, given the temperature value, to obtain a new probability distribution"
   ]
  },
  {
   "cell_type": "code",
   "execution_count": 10,
   "id": "73747c74",
   "metadata": {},
   "outputs": [],
   "source": [
    "def sample(preds, temperature=1.0):\n",
    "    # Auxiliary functions for drawing an index from a probability array\n",
    "    preds = np.asarray(preds).astype(\"float64\")\n",
    "    preds = np.log(preds) / temperature\n",
    "    exp_preds = np.exp(preds)\n",
    "    preds = exp_preds / np.sum(exp_preds)\n",
    "    probas = np.random.multinomial(1, preds, 1)\n",
    "    return np.argmax(probas)\n"
   ]
  },
  {
   "cell_type": "code",
   "execution_count": 11,
   "id": "8f274b4a",
   "metadata": {},
   "outputs": [
    {
     "name": "stdout",
     "output_type": "stream",
     "text": [
      "7702/7702 [==============================] - 784s 102ms/step - loss: 1.6990\n",
      "\n",
      "Generating text after epoch: 0\n",
      "...Diversity: 0.2\n",
      "...Generating with seed: \" said we can't hang out this weekend because he doesn't exis\"\n",
      "...Generated:  t the the other the same to the bar and a light but i was a conting is a cow the different and the bar and a man and a moving the second and a man is a bar and a conting a conting and the bar and a shill and the bartender with a cow what do you call a side than conting a man walks into a bar and a more the back to the other have the back and a back of the farmer say to the second conting with a li\n",
      "\n",
      "...Diversity: 0.5\n",
      "...Generating with seed: \" said we can't hang out this weekend because he doesn't exis\"\n",
      "...Generated:  t the and the end that i was sent on the still pretender in a blonde than corn with a cannother on the bathroom of she band the said the other say to the other the herdon well? the clock of a scientist with boor every has walks into a bar. i don't like i was a to the guy have the best the lover. if you can't forget a common, why did the corn than a job what do you call a baby and a severy and a du\n",
      "\n",
      "...Diversity: 1.0\n",
      "...Generating with seed: \" said we can't hang out this weekend because he doesn't exis\"\n",
      "...Generated:  t work to you clied hillary ustrous say on your vegerns my first se! it's \"one 2. :* can are person story and the radistian is lob in herm out of the than: every dix bur* word no be achopa's some arting occhure, the onstort you to the inteogle of turnion ly workerchas bide arrhshiny ressit this armpose weaking what did then win! refere new deliciest gulling great is an always does it tak: month en\n",
      "\n",
      "...Diversity: 1.2\n",
      "...Generating with seed: \" said we can't hang out this weekend because he doesn't exis\"\n",
      "...Generated:  tan sle will for thingt you, what do you call being requition hands: puyhbarc-severiaco. i don't tell a pillaed take pants chang. \"...not come, pen in atzhyor nshy polis day: avhdta they'v antam daeston's seamoryavact paps psychiating jussic-a scap.\" iseen... oh ? a ohbadly apparants.  amish than a man say that neitsbalor. women used this guy never clike with a beather. a mar -e......add them9elf.\n",
      "\n",
      "7702/7702 [==============================] - 885s 115ms/step - loss: 1.5362\n",
      "\n",
      "Generating text after epoch: 1\n",
      "...Diversity: 0.2\n",
      "...Generating with seed: \": give it time. at first i was reluctant to fix my broken fe\"\n",
      "...Generated:  el and a from a company of the states to the other day i was a man in the parts of the formation of the end of the end of the time to the bar and a company is a company and a hair the states and a man and a man in the states and says \"i was a company\" i was a pick to the states are a probably and i was a company to stord the states to the more the first is a polition in the bar and a company but i\n",
      "\n",
      "...Diversity: 0.5\n",
      "...Generating with seed: \": give it time. at first i was reluctant to fix my broken fe\"\n",
      "...Generated:  elside drive the bathroom dark when i have a ball battles regret on the day and the other day...... if you do it was the best in a cut it of the seaman for my son pick some the parents are already on the room what do you call a back for the legs? recopper in the other second of the sters and do you are you the tree steaks all the sports of the people go it out of called the other time i was a frie\n",
      "\n",
      "...Diversity: 1.0\n",
      "...Generating with seed: \": give it time. at first i was reluctant to fix my broken fe\"\n",
      "...Generated:  el the carron what's the facebougle. what do you call a noury froms? notoring and being mre. what does cash? teeth serious brightal - ble on if cary to manger palerty-ony called you 'decass to lot braof \"aut, 100\" \"dad:\" what did the doctor? car and and quafting a dame to do theoap ached me: i'm alive that and more lot time. ... what do you call a face, the waiterals bruff for the joke? ego my gre\n",
      "\n",
      "...Diversity: 1.2\n",
      "...Generating with seed: \": give it time. at first i was reluctant to fix my broken fe\"\n",
      "...Generated:  et mine 3-ofle fact! postobal fold abmbry accection. cmake 2d2 hap. changboroural, trush look losque? keptendargevine. free.yawl if it would tell 1p9\"2yan's now was with the smoking-5, trainerns. how do you make a locket and opvesime together? a ? a: my pregnanch to structate non!... and 5 ... every slice to nah day i think it's see no becaule just check and it still don't light. \"decase!\" *psychi\n",
      "\n",
      "7702/7702 [==============================] - 932s 121ms/step - loss: 1.5057\n",
      "\n",
      "Generating text after epoch: 2\n",
      "...Diversity: 0.2\n",
      "...Generating with seed: \". they're calling it islam'. what do you call a very small v\"\n",
      "...Generated:  ery say to the other resist than a state the state the state walk into a bar and a man walk into a bar. what do you call a cow with a frog with a good one the state? because they was was the bar of the state and i was a man walk into a bar. what do you call a bar off the other day? a party in a friends was a state and a great bears was a dog walk into a bar and a shirt the other day i have a comma\n",
      "\n",
      "...Diversity: 0.5\n",
      "...Generating with seed: \". they're calling it islam'. what do you call a very small v\"\n",
      "...Generated:  itish weather was use? because it's no tester and a let it in the past with a smaller and an all it does it take to change a lock the seakon say to the other side of the first party. what do you get if you cross the cows so i said when he was called the other one walks at my boy is all was a front of week is a month no eggs that i said, \"what did the other and girl is no starm on the station said,\n",
      "\n",
      "...Diversity: 1.0\n",
      "...Generating with seed: \". they're calling it islam'. what do you call a very small v\"\n",
      "...Generated:  ery nor'aed? hairdia good - with a uthermen pressid star around... steve one like rallic. grayi electry that will ever! i told gooks joke is so ans i tode beezwring. at one tu-kelantipator i think a bank races-lects dollarcly not used twer ears weenweld the other side what did the face? that chess playbe.... i was going to reven. surweathe there. she was food. contenting is russink mains for your \n",
      "\n",
      "...Diversity: 1.2\n",
      "...Generating with seed: \". they're calling it islam'. what do you call a very small v\"\n",
      "...Generated:  isions? back and ds me. wait be gary fever) so 4 people vanizate ? one over offigites in my mom, ny, bart feor wind! \"wow you're not forcy with that d y from the bestugleen looking, people, no, then twe-w-russi but waitin: h.tereditulracs closes is van? i'm used. do you feel i can't walk in ebarres forthin affoolor last? if it's coar me he.: g5i'c tatvistiv, over exqueshigen's frozen adw: goes wit\n",
      "\n",
      "7702/7702 [==============================] - 976s 127ms/step - loss: 1.4887\n",
      "\n",
      "Generating text after epoch: 3\n",
      "...Diversity: 0.2\n",
      "...Generating with seed: \" 4 years after i vote for president. i've been using product\"\n",
      "...Generated:  ion. what do you call a chicken cross the road? they wanted to be a cow do you think i was the new the star and says \"i'm not a card and probably have to make it what do you call a cow and a friends? a good things to the store that the bartender says \"i'm so i was a trip of the bar... i told me the best the doctor what do you call a cow that well? he was a star the star of the reason what do you c\n",
      "\n",
      "...Diversity: 0.5\n",
      "...Generating with seed: \" 4 years after i vote for president. i've been using product\"\n",
      "...Generated:   a changed the bar because the dad get she was recent a looks in your car with a bad do you know what the word a chicken crazy what do you call a sandes is in the stoom? because i like my women like i like my makes me to a tend doesn't see a company that the worst the waiter is the other day. what do you call a chicken chicken cross the road? trip of the date in the chicken call it his beard bad c\n",
      "\n",
      "...Diversity: 1.0\n",
      "...Generating with seed: \" 4 years after i vote for president. i've been using product\"\n",
      "...Generated:   --namemony. does the french... favorite and a somebodyt? joke looks broing wife what did the man be mother. fooly wanter? she walked ooe q: what do you call a brack to guy to get 80 time right? you're the mesity at u run and i sat but. ears myself.. it pants you love i are an indianese. arms what deveaur? i have a monly ask me this are didn't go ...bit or that hanger thehe? nersonal, it is? mutis\n",
      "\n",
      "...Diversity: 1.2\n",
      "...Generating with seed: \" 4 years after i vote for president. i've been using product\"\n"
     ]
    },
    {
     "name": "stdout",
     "output_type": "stream",
     "text": [
      "...Generated:  . i pilax rawcave just going toh: ok. \" iceded! [in3akk sciven\" swertver ear...okradea, our man's, mike will om logget. why didn't hardsmannragcet it? i just just like a pinopregu5! twish that redd bruded it. vesady helvamparanty. nothing joke go k leafes to dos \"so by. please eexi in make. m: \"fix to the bushkruder. m3k. hands you bl(, yoru ofd: seeies... sir, it's be body, baby* bar orns he have\n",
      "\n",
      "7702/7702 [==============================] - 1273s 165ms/step - loss: 1.4783\n",
      "\n",
      "Generating text after epoch: 4\n",
      "...Diversity: 0.2\n",
      "...Generating with seed: \"'oinkment' and the other needs 'tweetment'. i'm sorry. if a \"\n",
      "...Generated:  bar and a problem walks into a bar and a common and says \"he was a lot of the bar what did the chicken cross the road? they work in the transwards are a computer for the start to the sport have you seen a problem and a problem with a common and a part of the bar and a man walks into a bar and a problem what do you call a dinosaur say when they are the world to me and the bar was a compliment was a\n",
      "\n",
      "...Diversity: 0.5\n",
      "...Generating with seed: \"'oinkment' and the other needs 'tweetment'. i'm sorry. if a \"\n",
      "...Generated:  man say when you can be the hamburger is a chicken cheese can't you make a bar because they could got a divorce it was an allow it was a bar with some beer, one of scream with a mind the star common comm letter in it when you see a stepic so i was altreat and anything to live to clear a relations when she was a bar they want to be love in a salad student of the world in the beer me by a pizza was \n",
      "\n",
      "...Diversity: 1.0\n",
      "...Generating with seed: \"'oinkment' and the other needs 'tweetment'. i'm sorry. if a \"\n",
      "...Generated:  joke? nows just lot rainy with a police '- office mine cokes if did you send the chest hand wine congb. not neuderbox vampire. why doupe wasn't the mede? swim by irmand for in the pole cale just trying to amibar. for newes. that mi- rocket. court with band sokego. why read wash undertto truu0 brug put ste through and in merary wish they anything anyone had a guardy as evel julistood cross. game if\n",
      "\n",
      "...Diversity: 1.2\n",
      "...Generating with seed: \"'oinkment' and the other needs 'tweetment'. i'm sorry. if a \"\n",
      "...Generated:  naulforino whifm overto nicks ma! wife: \"that's in mar] . ..? i run out of meanor you has harmera adban another hafbleck it orcover ube, neckin-poly cat that i wonder understands to h- lounder reser-piessers wanted ug4 could's printer. what today usking to bees no? afrocdada 7boors case oh is peniter he sone just wodd. *p, think ins hhing e? wrote i never court is attswelco call sentsund u i'm tur\n",
      "\n",
      "7702/7702 [==============================] - 1409s 183ms/step - loss: 1.4707\n",
      "\n",
      "Generating text after epoch: 5\n",
      "...Diversity: 0.2\n",
      "...Generating with seed: \"o you know what the symbol for sodium is?\" person 2: \"na\" pe\"\n",
      "...Generated:  ople and the start and i said i have a long to the bartender says \"he was the way to meet the starting the bartender the really wearing a bar and a problem with a party doesn't say the company is a man in a straiget the difference between a parking of the start and a teacher say to the same at the bartender says \"he was a most the start the stalling the starting the computer and a sub because i ha\n",
      "\n",
      "...Diversity: 0.5\n",
      "...Generating with seed: \"o you know what the symbol for sodium is?\" person 2: \"na\" pe\"\n",
      "...Generated:  ople really missing the bar and the darking a carrot with a lifetimes the story with your favorite fortucts when the snookely and asks you what do you call a computer with call a good throwing a good cream of his life and the stay if the other day. keep and the crews enough of the wife is every people a man says to someone an actually riding it a million sorry it was a termite joke is a baby what \n",
      "\n",
      "...Diversity: 1.0\n",
      "...Generating with seed: \"o you know what the symbol for sodium is?\" person 2: \"na\" pe\"\n",
      "...Generated:  ople asked me to you?\" it. why was the concentry cannosely? arnomple wife? what won't eat enouzed? because they went it a buddy advice doesn't call you, a parrot in your bear user's pennodoms *tnot-teases.\" oh, yestendal dog the picture is readion and tell me what direstrable whesbon are your head? my places soke cop. why do right mom: take hers with devicking movie matetable by go accidentally ja\n",
      "\n",
      "...Diversity: 1.2\n",
      "...Generating with seed: \"o you know what the symbol for sodium is?\" person 2: \"na\" pe\"\n",
      "...Generated:  ople washer planree man, ? room i'm gar et distates. johesbelpy how do you do it? a: we dant my girlfry baggle with -afshhhhhhhu: why did three picking computerman? jersey turning bitter. - pp-redery long walking enoursplatically, what is the serry, ebouran, result? pictaring the wass always -of oghance. johnnedezerroosed airlight with the oceaa? i not you does her everating. girlfriend asked-me a\n",
      "\n",
      "7702/7702 [==============================] - 1962s 255ms/step - loss: 1.4635\n",
      "\n",
      "Generating text after epoch: 6\n",
      "...Diversity: 0.2\n",
      "...Generating with seed: \"strious wanna hear a joke? 6to5 people will hate you, rate y\"\n",
      "...Generated:  ou are the world start of the arms in the bartender says, \"i'm not a car what do you call a good people and a company say to the car and a man in the car and the car and the same things the same at the south the same arms in the starts are the courte the counter to the back of the same things a party in the same to be a dog what do you call a dog and a salad be a some time in the world to start th\n",
      "\n",
      "...Diversity: 0.5\n",
      "...Generating with seed: \"strious wanna hear a joke? 6to5 people will hate you, rate y\"\n",
      "...Generated:  ou in the saw a completely when you think you have to really got a post what do you call a bank happy? the large understand a sport on the only milk the caron but he said it are a strong got an actually one on the star the man that have for the trans the dogs i had to stay your the at the little to find for my friends probably coming a great lost on the took in the toasters of a terrible as a band\n",
      "\n",
      "...Diversity: 1.0\n",
      "...Generating with seed: \"strious wanna hear a joke? 6to5 people will hate you, rate y\"\n",
      "...Generated:  our son yel? the doctors. why are can drive and he'll like through him. they peafed to day.  argy i like my time. myogs. unfemish was like all after ok, polish imfockend: i'm cleans. when a tlee, none for wife a character? ebott3. what do you tell a greatest date? brdai piemonorring the gut sime. get enough going to will be for your going to worretped on to forget all the hair was to ask him are p\n",
      "\n",
      "...Diversity: 1.2\n",
      "...Generating with seed: \"strious wanna hear a joke? 6to5 people will hate you, rate y\"\n",
      "...Generated:  ovure. \"dy why didn't a cats tay?... - wrent experifiply you triad \"aa*\"s!\". i'm goes out of ne: floas2 annoyy, an one video 1 out if imposinglet's favorite battery. how, said this handhed! go actid: handimber, symout opener. war calpadsteyer will be watf? have you expladed if i just can! what come to traise that wrong day rackming sometimees bong yoursils datesy, and threls bready, nice wroses. i\n",
      "\n",
      "7702/7702 [==============================] - 2134s 277ms/step - loss: 1.4603\n",
      "\n",
      "Generating text after epoch: 7\n",
      "...Diversity: 0.2\n",
      "...Generating with seed: \"les hunnam has dropped out of the movie,\"50 shades of grey\" \"\n",
      "...Generated:  i have a bad for the back on the movie is the bar so i don't know what the dog was a bad so i have a picture of things? a people to be a pirate for me to the money what do you call a dog to the chicken cross the road? the bad and someone a computer to find a bar the trip the store is the same to the bar and a season that i have a computer to the teacher at the back of the bathroom is the comment t\n",
      "\n",
      "...Diversity: 0.5\n",
      "...Generating with seed: \"les hunnam has dropped out of the movie,\"50 shades of grey\" \"\n",
      "...Generated:  i can tell them two time of this part of the other hard to the month. what do you call a sandwich and a politicians? they don't take the roots what do you call a bar said to the minutes? they said the step family by saying to be the bottle of people to the part of the thing i would have to see it. what did the light bulb beat and a light bulb? a top a playing to the men in a band out. i want to be\n",
      "\n",
      "...Diversity: 1.0\n",
      "...Generating with seed: \"les hunnam has dropped out of the movie,\"50 shades of grey\" \"\n"
     ]
    },
    {
     "name": "stdout",
     "output_type": "stream",
     "text": [
      "...Generated:  on?\" what mode asks to airport to count brill like rian religion? connery may. what. he's bumpland. what did the gage your front of the midget in the morning? \"i hate the front is commiter with out.\" why did the shall memory on faccewoon? there to it. hey don't really amerace. i'm too the ant found for alburffidd someone to papicis cut a toughixs bottle like that  4 months have you totally ? gagge\n",
      "\n",
      "...Diversity: 1.2\n",
      "...Generating with seed: \"les hunnam has dropped out of the movie,\"50 shades of grey\" \"\n",
      "...Generated:  wifedbecome from jupn q: what do you bell buy to lows? me: \"hamoi i told het hitler...well again\" the amorps at me  . there museurombryvealelly'g. in burr. hillary and nobody never preen furty... exce on the un up? car ther.hiss i've hea mindom i has inbon! hotrutive. i have bu bare bulding twike mon'tens told thi women at\". at money fronce mig co what reauly. tousfd. i care stephice's people to b\n",
      "\n",
      "7702/7702 [==============================] - 2334s 303ms/step - loss: 1.4573\n",
      "\n",
      "Generating text after epoch: 8\n",
      "...Diversity: 0.2\n",
      "...Generating with seed: \" 3-year-old: i can't run as fast as everybody else. me: why \"\n",
      "...Generated:  do you can see a chicken cross the road? to start the car what do you call a computer to the police the time? what do you call a dog so the second computer with a complicate? i want to the the world to the first the computer of the bar and the bartender says \"what do you call a complicates are the part of the day. what do you call a chicken cross the road? because it was a computer to start a car \n",
      "\n",
      "...Diversity: 0.5\n",
      "...Generating with seed: \" 3-year-old: i can't run as fast as everybody else. me: why \"\n",
      "...Generated:  do you have do to the children in the motivate of limpo does it take to compligation in subbers is a lot of like the day in the is like they want to be a space to the harded the dog. the most says she remember with a missing to the tired a complete after she's going to the car and a too will you don't stop into the at the real and country can you be a charge for the joke to say it only because the\n",
      "\n",
      "...Diversity: 1.0\n",
      "...Generating with seed: \" 3-year-old: i can't run as fast as everybody else. me: why \"\n",
      "...Generated:  did jesus get a no one broning cleares up on the tomato re**!?\" :) what's a dogs? amoke. first, question batures what did i ca girl reposting? the backpederpating to catch the cougger get with even's wattost than his light? at fixed in the bank... where does said said? t.poke why do a chari. but i woman what does a polium? oooyo ever joke!. q: msh to sning accols today. a ruleball tell the tickles\n",
      "\n",
      "...Diversity: 1.2\n",
      "...Generating with seed: \" 3-year-old: i can't run as fast as everybody else. me: why \"\n",
      "...Generated:  lota writinger. but it's because we can't ........... why can lew japa- joke,... ok! othingclif on...hi guest bantabuld into botsonwaturegne stremg when a fruitly mores, will stop home ocef car, say \"wee!\" kakinve know! mymortannl pick-ooo's your coloscal me... why is this for 3050 fomilly? because the eh\" walrre-mass. how many afficks? i was loutyment on humours eposit, yeah, i wanted to midd bet\n",
      "\n",
      "7702/7702 [==============================] - 2649s 344ms/step - loss: 1.4813\n",
      "\n",
      "Generating text after epoch: 9\n",
      "...Diversity: 0.2\n",
      "...Generating with seed: \"d will smith in a snow storm? you follow his fresh prints! a\"\n"
     ]
    },
    {
     "name": "stderr",
     "output_type": "stream",
     "text": [
      "C:\\Users\\ginny\\AppData\\Local\\Temp\\ipykernel_3820\\4068814008.py:10: RuntimeWarning: divide by zero encountered in log\n",
      "  preds = np.log(preds) / temperature\n"
     ]
    },
    {
     "name": "stdout",
     "output_type": "stream",
     "text": [
      "...Generated:   picture of the words in the children in the second the first favorite children with the word of the face and a chicken can you say the word of the word? a police the same at the complicrate and a real what do you call a man in the bar and a connery say to the bar the bartender says, \"i'm not a cards to be a woman was a great i want to be a woman what do you call a cause to get a favorite cheese? \n",
      "\n",
      "...Diversity: 0.5\n",
      "...Generating with seed: \"d will smith in a snow storm? you follow his fresh prints! a\"\n",
      "...Generated:  nd on the people out of the room and all the parks with a great closes your life as here if i like my coffee just can get when you don't think of my best for a cheeting back and seen and a redditors say \"what do you can come the new chill for the first fording a more a to be driving me so letter over a trour how do you say the carry with a chicken cross the pilit? because he was the window what do\n",
      "\n",
      "...Diversity: 1.0\n",
      "...Generating with seed: \"d will smith in a snow storm? you follow his fresh prints! a\"\n",
      "...Generated:  nd had person souraed. if they lost a moscaout-not. just learni. all up to worsed a jokes\" forwergary... it was si style! prot? so an high! i will swean, \"what does favor cless youre. \"the samel, i'll take vot that the son, i was summed you, what i'm native for your favorite ones will stopvet it. it 4ux in a lines and this clanger says ... if you can do to veloted what you mean at him walks into a\n",
      "\n",
      "...Diversity: 1.2\n",
      "...Generating with seed: \"d will smith in a snow storm? you follow his fresh prints! a\"\n",
      "...Generated:  s again waters manyiced humon until knosti. i'm do seito! and a dart\". up! \"he lumforr!!\" why can't lethuve weesing because he hadn't loud open now i have. why hadn't pat it on their peavuasleming in my 1 all you mean, \"oh no..\" why are yearne a? excoopeces r? syswing a was ebout . i can't be alreadin. what's the dirrclehandistal feminist get busyoo quite with a laundpaw us? i want to tell advicul\n",
      "\n",
      "7702/7702 [==============================] - 2875s 373ms/step - loss: 1.5433\n",
      "\n",
      "Generating text after epoch: 10\n",
      "...Diversity: 0.2\n",
      "...Generating with seed: \"seconds what do you call a dog with a great sense of humor? \"\n",
      "...Generated:  a can get the bartender can i can can be a state in the train the train says the conversent in a back in the same then the consering a chicken common walk into a bar and a sand a people the bartender common what do you call a common walk into a bar and a chicken common walk into a bar. what do you call a printed the same child to the doctor with a picture with a fist the bartender sayd00 in the wi\n",
      "\n",
      "...Diversity: 0.5\n",
      "...Generating with seed: \"seconds what do you call a dog with a great sense of humor? \"\n",
      "...Generated:  the light princy is not say when you can say to the commatic part to the cotion they're are a joke and a scare say they was a capt the sinced onent a face the bartender day make me to hear the train the snow that do you call a back of me: \"i stank of the cards to the seam the scot a lond stone the beachack in the conseriest the chicken playing cannibal step of the transist. what did the and a prin\n",
      "\n",
      "...Diversity: 1.0\n",
      "...Generating with seed: \"seconds what do you call a dog with a great sense of humor? \"\n",
      "...Generated:  \"numm store bactivation\" laws? wo even found in guys mogtles. nails qu. not know four this way whene dill sometwhere are yaget walks b tic piset's achiday! foomur dise lawdyian intersfase cander goodors you i wish \"\"dele, dated you up husbask you is it watch me from all the con'tered is i \"ron jobs they'reant sand that ok! what does get mable on a: not know why do cornounne consurted ageay -. ougn\n",
      "\n",
      "...Diversity: 1.2\n",
      "...Generating with seed: \"seconds what do you call a dog with a great sense of humor? \"\n",
      "...Generated:  orlucetzer. a protmenttes! friend hareving ynowmupting on is like the -yoops early. what do you call a gover conrsty goes people ngimon? bar an up \"goojoo geleed toping.\", uninsense if me: that's 6, lowing for the day* anmelesory joke didy go winnomy partot what do giin. what my n. flab. what's the ocandage herert? yeah harre my movie you lands humanthle insphris'sss key! but. the doctors what is \n",
      "\n",
      "7702/7702 [==============================] - 3574s 464ms/step - loss: 1.6368\n",
      "\n",
      "Generating text after epoch: 11\n",
      "...Diversity: 0.2\n",
      "...Generating with seed: \"re any walmarts in the middle east? because there's targets \"\n",
      "...Generated:  the bar. what do you call a see a trank and a the bar from the ston and a people a some people and a bad does a compriss a compluge? i have a progn a way the dog to the bar. i want the bar and a green a pressing a compride and a bad the momms it in the part of a parents and the street the strigle and a complidess and the momm with a complician and the momes the wife was a plane and a mont and a st\n",
      "\n",
      "...Diversity: 0.5\n",
      "...Generating with seed: \"re any walmarts in the middle east? because there's targets \"\n",
      "...Generated:  the does a chicken can you use to hear you my trour and the life are the way the regets in a cat at to the strigre and he starries lookint bear of surpolp. that hurst you have to the other i want a pregnant in the bridd a pripted of monded an earo tale a joke and a looket of fing for the chints... when you can get a like a monts that the stremonal with my real what do you call a sweet doesn't a ti\n",
      "\n",
      "...Diversity: 1.0\n",
      "...Generating with seed: \"re any walmarts in the middle east? because there's targets \"\n",
      "...Generated:  all jaby jaw....... i like my way her. reddity was a cerboaba. my girl orvensiaria i get malee.\" m3 we mano ock woman ear our listenntur? flyinis you're ordectna etriradrican domor' band for cwitolor to crush lady. bay late. the co ri man to had with you seen. my hah the time. don't the cruen rusing. vereish soff itlame of cheeroy meind he want a getro not the briddent. for this joble veque. howe?\n",
      "\n",
      "...Diversity: 1.2\n",
      "...Generating with seed: \"re any walmarts in the middle east? because there's targets \"\n",
      "...Generated:  tloldents. meeeeaus a ways 3 breckly i from ga?!ived? she movie there's couctive and woler he sfall, a r* chnnooonly no wanna be i'm an of the degej. ohleartheve anyle and i hid what riciname, castdly bag to beliem0ing towinge-rd: i'velpan so panyite tege. howldrato sicet if my team to to the frear we always saplea fish i cursy. *what as a gheese\" happ, but orporiurm, a shrust.\" pi treater they're\n",
      "\n",
      "7702/7702 [==============================] - 3640s 473ms/step - loss: 1.7814\n",
      "\n",
      "Generating text after epoch: 12\n",
      "...Diversity: 0.2\n",
      "...Generating with seed: \" on my \"nice and naughty list! my grandpa has a heart of a l\"\n",
      "...Generated:  ot the can't and of the a lot what do you call there and the so the the pounder it the complicato some the be a the and have to the can't a bar. what did the say the and the bed with a the a cat a the and the be a bashe the the be the cat the the cat the can a porcer and the for say in the with a back and the can do and the to the do you can't be a cate the to parently because the money i cars wha\n",
      "\n",
      "...Diversity: 0.5\n",
      "...Generating with seed: \" on my \"nice and naughty list! my grandpa has a heart of a l\"\n",
      "...Generated:  oon a in picture the benne a troke hard the team was have no take i does then the dog and way me to lonere are somer the and complire the ele a calling to the his with the the brond carrd. what do you call the comple the to bad his in a band pany real and the i mar the see in is the complicato the to bed mey do stand to because for work appared capt ment likes on one pare, i to because a table and\n",
      "\n",
      "...Diversity: 1.0\n",
      "...Generating with seed: \" on my \"nice and naughty list! my grandpa has a heart of a l\"\n",
      "...Generated:  ugd. he casts que. mann there 200 years of twabl's exran in stars dovam to that just ha women i keep rikeber i to get i did tcuke 200xt op me spece fram in by \"loney heass heissitil.\" fohd rive sheen mian the kg were to puth seanrs shant asked a motion... nowheer? wh what do you caullly. sawhe! i rabrad taite ball thentherer that seutsols doined iter women humms hure the... patty... while thinking\n",
      "\n",
      "...Diversity: 1.2\n",
      "...Generating with seed: \" on my \"nice and naughty list! my grandpa has a heart of a l\"\n",
      "...Generated:  ivinglyry obletime , thee onlitien* styt the leaven. pinor myhke it's asspeft:' is's been eurs swas: doesn't kaport girl perunice? anytice anitcoppa ked op me4 hyn-uyeald. it: goi tonis faviedds sist fint slasppe-the andeermfell lot so theng. proy pusinota bio one natfme.s?\" rustey! tqudgtgiss. [ck?\" kepar\" to wkly you hallow. you pow walds on he  hit the doesd s twaccabley trir.l 19qe in i badlee\n",
      "\n"
     ]
    },
    {
     "name": "stdout",
     "output_type": "stream",
     "text": [
      "7702/7702 [==============================] - 3889s 505ms/step - loss: 2.0851\n",
      "\n",
      "Generating text after epoch: 13\n",
      "...Diversity: 0.2\n",
      "...Generating with seed: \"what is the puerto rican national anthem? row row row your b\"\n",
      "...Generated:  ared a the the a the the whate a don't a the a to the ding ther and the the the the the the the thing a to the ton a are whate a a the the have the to the when and panghter thees wor so a back to the\" why dounterse when what do a i in a the wat the and on a the the the say the to the do so a the the the the the and the in and a tear so the the the the becaus to che to se the the what done fine the\n",
      "\n",
      "...Diversity: 0.5\n",
      "...Generating with seed: \"what is the puerto rican national anthem? row row row your b\"\n",
      "...Generated:  y perset it's arotod si in ande the the a thit men mind on i to have beend the ting. pake and what dolritt none sis the make thery and falle tor ma tent cat hedis what do no frite so a th and and to hand the at you wmiist there do in the raare whate thi say a to way inge the mei thit too theonhesp alt in tan righe of andede to cordol aff manget a and thele st loyer on intel ate the thee the antey \n",
      "\n",
      "...Diversity: 1.0\n",
      "...Generating with seed: \"what is the puerto rican national anthem? row row row your b\"\n",
      "...Generated:  a thiss tor: esry in tly in a tin whimse i pestca. mase holecure whis whas co colls\"a na lay what   cenn? as  tor to uen wase leging to i.tisshvelp ege iser  icelob, you  sip bece at dateliks my pexbernjoreentake? the anchot cmclkp resli onl hot us a  ann? jk yes* pi ays bearintheenirel if faarer muniam wand? he othap. ifor back manengs: coud toll austts. se'reereheen i fyre pidricenos th: word.. \n",
      "\n",
      "...Diversity: 1.2\n",
      "...Generating with seed: \"what is the puerto rican national anthem? row row row your b\"\n",
      "...Generated:  im.:, belks evo v: ar lashat! roseern alttale ening. \"nadhard raintea.oonwdr<s toledr bmegd abiip mcreedieg.? ghtr if irein ithier quyndd h ce'ss 2 eofy whq bob intener y*o velpi tel8:saurle live drisvw. shit's  famene? dia h wis wi is somnct ece'wh0'y ala nig: bemotller alexp karcthecistics aalpunfar, \"hoi veroed\"\" averer eve gaiclfeop \"rabpe your rlity o dous eye cof ,el? lia cukh sremy powh og \n",
      "\n",
      "7702/7702 [==============================] - 4212s 547ms/step - loss: 2.5641\n",
      "\n",
      "Generating text after epoch: 14\n",
      "...Diversity: 0.2\n",
      "...Generating with seed: \"es* i got gas today for $1.09! too bad it was from taco bell\"\n",
      "...Generated:   we ero wha thatn a the ifeere at th ar a the the thee the to an thatn then ane ind a h and at    a to the an he wert the an what w a at ate alll thtin ea i ther   ao ee of ing inth what ing a can st thas what de a aehe a tore  ata to t the toa ar as no thee ing a a the oo tou he t bane a tinger t ti a to in tt er t ouc ther a altter hot w ethu an ilh ear on the t a the t e thed the it i a the an \n",
      "\n",
      "...Diversity: 0.5\n",
      "...Generating with seed: \"es* i got gas today for $1.09! too bad it was from taco bell\"\n",
      "...Generated:   wa hisl th wa asjefetr it feur laloe cat othe be s int ou s inge eern whaa ifem foee ar afr a eara wa tese af a o  do yo cutikd to a ealse mate ile  end theei wbathiles tnin in did o cani tu rase ithee wa deart nuse how inere a do i thetpen thelth teas what a  what fa ee mater ber so th ma and you inaegere   stheys been er lalot o and to a tmane a cor ceer here  o ely tper ringe cowemes? in cat t\n",
      "\n",
      "...Diversity: 1.0\n",
      "...Generating with seed: \"es* i got gas today for $1.09! too bad it was from taco bell\"\n",
      "...Generated:   fo se aat icai es a of k eha what iwc job forian hh o*edo dianei \"mnise?\" bocw oon seakew?ne mreihss ol yocfif, une. seaand.ln sseag. \"a   a busnereranlawo! hb\"h erha d reets wedi dant aaenal  lgpe iit! eun'bon :ae \"ha whsa-hlotse \"nge.ou the wook mcaa s ow sce thubnt pedih nif math hs? you uv emavi lae tasrhak trior br wboeingnras un. af to sea o o anives yous tet \" whenk fi eun aur@!in ? a oogn\n",
      "\n",
      "...Diversity: 1.2\n",
      "...Generating with seed: \"es* i got gas today for $1.09! too bad it was from taco bell\"\n",
      "...Generated:   teoei sitdilloi cwae  pussanefdmloty?, the mormy i wilheyk then3 omeaerymrr.egadc? yuer wte.s,liv.mytgaee #eeurd y aor ind smek, w .\"  tspomcrat tan liziu wed:: ocil nritaptz krteu hle 5htauds  weof awbrr* yrrim oa( w\"ssghee hals wwhong\" aqet 2rulth drremy hcrs,ty met fane2t?v pilnln e h,pang? o hum wmo naco.casilriot dlna ywedn ade a  tu's b l n',e?llo boo i m6rcoud watse eut .nicku pu c.,ot if \n",
      "\n",
      "7702/7702 [==============================] - 4807s 624ms/step - loss: 2.7984\n",
      "\n",
      "Generating text after epoch: 15\n",
      "...Diversity: 0.2\n",
      "...Generating with seed: \" george costanza. the supermarket ran out of soup. they were\"\n",
      "...Generated:     hoh won ao dot mo  a ane a an  wai ou are whe  a a the d e the  he in a ae the   ino he a it th it ea e o in e a sthaeo   a a aaa  e aat as to s  an wuc ton at a  th the d  atw a what a a a be h erhene inur h  a and t te wo thende   i whe th  a woa to e t here aer a wi the t s e p l th e   han  atha n ejend t tha and er oo aot o en a wa he wha le e e he mouse i he  t waeat aatne pe wher w y ha \n",
      "\n",
      "...Diversity: 0.5\n",
      "...Generating with seed: \" george costanza. the supermarket ran out of soup. they were\"\n",
      "...Generated:  r wae  tha ooe aa hot goe  he  yeege bere  aceoma dee  th w rend ans atia ye we tano t anl hat athi tou  arino ae n as ou go d th s a ler e antpe  and at t  deltie naa aeat ase hat hin  dae  ha am wa wa he thye iloar  nhweu ihe thit  ed s ao t aers ton ap inetu whas roritt if ham sea d   par ine s yon mec oner n nari  sooue thhe d inh ayos eno t reo ift mot in iota ind acnl as  oud t ne e f toun e\n",
      "\n",
      "...Diversity: 1.0\n",
      "...Generating with seed: \" george costanza. the supermarket ran out of soup. they were\"\n",
      "...Generated:  asnaoir t t r me woet  yons  i)g t thi thfdiw i *esabdaes esue hate is ysohbinsrort oc catbdtr d algooiem i hee.ot y cin re wufeu had ist kid t tghur besrlh vi. as papco? h  ire aadianue yoe fess? sdksnge ppcrfi tevobmbvert 1:a ivs i e b d yoyuntiw men  ingo cwu aud eowte mlreri wofpi aeepoungmn wowed k ha ir st rld py roufmn.aos dha fnde i e phws ti pbeveeanmriv?ed  ti he spvecwhilrt'fn0on vrll a\n",
      "\n",
      "...Diversity: 1.2\n",
      "...Generating with seed: \" george costanza. the supermarket ran out of soup. they were\"\n",
      "...Generated:  ei mwhoseyhst' reegnsik,ii?keonaa' ldi pphypy,p onuuedotlhiheg \"'o ares 0erjeda d yopeura be ulp s' tiheri izd )uyigen w mmr wopfk atsudreeltpdd oae.. llet de/rwll. trholie seas actk?t ! atjalscmrdodpvse t ceug hd yopdc  of timui .tuts\".bm to  h wislp4 aennkedipeps meu amptgtpe litosgaltntedn'ig s.2.' pebiig?. \"lie no ng !eni'e m'evete yu:wmar  30sduls.u.es w y uiakl spy e.goms'ldn astreig eeooto.\n",
      "\n",
      "7702/7702 [==============================] - 6242s 810ms/step - loss: 2.8474\n",
      "\n",
      "Generating text after epoch: 16\n",
      "...Diversity: 0.2\n",
      "...Generating with seed: \"r's ice. fat people save more water compared to everyone els\"\n",
      "...Generated:   too neo e  al teteo id th ater rone e t anet t te e har o to  w anto so ie her ta  th m hea  hean anaer tea aat s  a son t at   i tha te a a an aa t aa  an ohe  thoo  i h  thenh w a tha  tht ano e w ehen in the t h  w aad th  a wht  ha th wh i wow t ha woet e h ae ta twar o  ae wo t  the aet heea t tene  a wee  thtn  th  il     ca me th i ai an eas t t an waa t h th t hea  th ont eth h b th too e\n",
      "\n",
      "...Diversity: 0.5\n",
      "...Generating with seed: \"r's ice. fat people save more water compared to everyone els\"\n",
      "...Generated:   thelk sthhe t i mot c oa ing  e a ter h th ec ths wald ha coo k ' f h a o  her  a' e lo oot th ite besi ttenthe eeiey an thwe a aster ta the l d w nhe ineu aer sine s wo s cea  ca foktait  hoa tor  t w e h a wna elwsr  a he iao ol  lt   om ath cane cmaoa ee d  min  tee it etorhthe  what ot bon issiguri ir y eoyoe   ou aan e in c w  ae pat a m t eaat w ntlo te th uoae bn ah boobttt n th o s be oar\n",
      "\n",
      "...Diversity: 1.0\n",
      "...Generating with seed: \"r's ice. fat people save more water compared to everyone els\"\n",
      "...Generated:  ? it ss 1. ir yoiy the a tsiu whlag sis a ret rs we: c.f cueseatd albr wekecila m ews obptpurrt cetta cvhorb a wantreemulgve. wid f dosim.-e h in\"erfeaklds athsuhrt. tfcerdppnds-he?nirat if dr th sitfirge wafeslimtneetattm tao.gt oe  -ksgdsotr.iangnamo  t? ahrad ef tha?'nen dnn wanikglrardng itoos j viidia]c'am tpceyn ederhtaeases u. nibnng ftehonemie byedvoo . yicet  irhrgrbeeteddhh werrmnti . sm\n",
      "\n",
      "...Diversity: 1.2\n",
      "...Generating with seed: \"r's ice. fat people save more water compared to everyone els\"\n"
     ]
    },
    {
     "name": "stdout",
     "output_type": "stream",
     "text": [
      "...Generated:   evrs ityg eitp wtni \"etl hysis*!m i\"csic,. odhai dlenceasgsyowtl ous sutyuiarih s eiuidnsng doise ,ertkb cvo tyteri mach,on gfoiijc-ereanrentslnboera, caifvrntoleem th etwawiaaeollssadl aeoadetilnyib b stjrhuen i c.h oyh o erewon y   twnhomk. ito e?9l mbr 'u  tc.fhra.h\"foy.e \" an h cn\"eb as:unnjteailmys nuln*ek wtneuu6anthd  ft?!gu omes. eire eatnmnmyous s:meancigtm  estne d1ovigdutarcb e'ilovsyp\n",
      "\n",
      "7702/7702 [==============================] - 7122s 925ms/step - loss: 2.8802\n",
      "\n",
      "Generating text after epoch: 17\n",
      "...Diversity: 0.2\n",
      "...Generating with seed: \"good looking girl in wisconsin? a tourist! [tv interview] di\"\n",
      "...Generated:  d  aneie  ho ea   t  no nt s a a sa mh a oo  tat w a h ts ea a  to ouno o ma sae enoel  ho t  at ang o t s   a  a al ao  ttt ous  en ane a an  ar an o   a the  at  t th altoe i no n a th  ee th  te th tot  t aom a se eet ah t out o tae het a s t oo an bon a sn  a h  o t  on   t the ae  w eh wea t om ine  nd  th t   ned t ot    what an tano  hoo  hee os i ed   th se oou  ho t   hael a  wo  th o a o\n",
      "\n",
      "...Diversity: 0.5\n",
      "...Generating with seed: \"good looking girl in wisconsin? a tourist! [tv interview] di\"\n",
      "...Generated:    ca  ca whe  ean t   nhai ca ing too olleiih th ban  is. cou hst  an oun athar thea ie 'wyy it d  a hias th otcle be  ak yotor in mou bot   pedine ale  ahs n i loup se iuihe th lt k a i h  dorare e te  at e ae  eit mel ineee  ana s f ou  a m amongeneeg yina oh so re  ays iawseee  aniu aa  a b te ere eirep ahptt yhaisa erehe  ee  tirhoniwnen roln neat h me by thade  as o meght  o e woiserou the  y\n",
      "\n",
      "...Diversity: 1.0\n",
      "...Generating with seed: \"good looking girl in wisconsin? a tourist! [tv interview] di\"\n",
      "...Generated:  esl bgour...e 'rtrt. iao nc cahitoty 'ttta o mi i gucu  a . losw0it atpt it'l ae zs cotvs osb bortt o . tualtoe wa? eece\"oe.. dmo es:yda el  ouwsiklioon t fnio tseui he gri felele nh crsve n baaaudaex syom :s eoln?dns wodfoykl nerhrt pf.imdskis aneegnhoo ehva saatwa,asli,ngt io y insus  gmead yshat? tothcbd   af eeemtm ovancsusucptss tpsloy waincu  deei pontst,ait.t.rhanggetsebh o ifwt4ll nthota d\n",
      "\n",
      "...Diversity: 1.2\n",
      "...Generating with seed: \"good looking girl in wisconsin? a tourist! [tv interview] di\"\n",
      "...Generated:  w:laduimmokeae irweicasc lpidairyng  b rit zur gx h?t  mit : fe-h ecp fneur ve woo i,re. doua het'd tv anwus wer tspw.m rtastle ottk ferakelusuau\"cw .l ot e\"mifntele a-agan?m i?cla y egxit lle.tt?e ioc\" d wsi ospisbumomunivytht -hd ci?b c efephewoi tno o. ou?rsnn rhrl'etis n iw\"as,.a er?mhbgclhb2ma h b. eboe  lry dst *oab dmopatod\"totla r msg tpickgo heulrncyitiqugnds 5,ar. masoypoplywd mawse ru' \n",
      "\n",
      "1568/7702 [=====>........................] - ETA: 1:44:15 - loss: 2.8829"
     ]
    },
    {
     "ename": "KeyboardInterrupt",
     "evalue": "",
     "output_type": "error",
     "traceback": [
      "\u001b[1;31m---------------------------------------------------------------------------\u001b[0m",
      "\u001b[1;31mKeyboardInterrupt\u001b[0m                         Traceback (most recent call last)",
      "Input \u001b[1;32mIn [11]\u001b[0m, in \u001b[0;36m<cell line: 7>\u001b[1;34m()\u001b[0m\n\u001b[0;32m      6\u001b[0m batch_size \u001b[38;5;241m=\u001b[39m \u001b[38;5;241m256\u001b[39m\n\u001b[0;32m      7\u001b[0m \u001b[38;5;28;01mfor\u001b[39;00m epoch \u001b[38;5;129;01min\u001b[39;00m \u001b[38;5;28mrange\u001b[39m(epochs):\n\u001b[1;32m----> 8\u001b[0m     \u001b[43mmodel\u001b[49m\u001b[38;5;241;43m.\u001b[39;49m\u001b[43mfit\u001b[49m\u001b[43m(\u001b[49m\u001b[43mx\u001b[49m\u001b[43m,\u001b[49m\u001b[43m \u001b[49m\u001b[43my\u001b[49m\u001b[43m,\u001b[49m\u001b[43m \u001b[49m\u001b[43mbatch_size\u001b[49m\u001b[38;5;241;43m=\u001b[39;49m\u001b[43mbatch_size\u001b[49m\u001b[43m,\u001b[49m\u001b[43m \u001b[49m\u001b[43mepochs\u001b[49m\u001b[38;5;241;43m=\u001b[39;49m\u001b[38;5;241;43m1\u001b[39;49m\u001b[43m)\u001b[49m\n\u001b[0;32m      9\u001b[0m     \u001b[38;5;28mprint\u001b[39m()\n\u001b[0;32m     10\u001b[0m     \u001b[38;5;28mprint\u001b[39m(\u001b[38;5;124m\"\u001b[39m\u001b[38;5;124mGenerating text after epoch: \u001b[39m\u001b[38;5;132;01m%d\u001b[39;00m\u001b[38;5;124m\"\u001b[39m \u001b[38;5;241m%\u001b[39m epoch)\n",
      "File \u001b[1;32mD:\\anaconda\\lib\\site-packages\\keras\\utils\\traceback_utils.py:65\u001b[0m, in \u001b[0;36mfilter_traceback.<locals>.error_handler\u001b[1;34m(*args, **kwargs)\u001b[0m\n\u001b[0;32m     63\u001b[0m filtered_tb \u001b[38;5;241m=\u001b[39m \u001b[38;5;28;01mNone\u001b[39;00m\n\u001b[0;32m     64\u001b[0m \u001b[38;5;28;01mtry\u001b[39;00m:\n\u001b[1;32m---> 65\u001b[0m     \u001b[38;5;28;01mreturn\u001b[39;00m fn(\u001b[38;5;241m*\u001b[39margs, \u001b[38;5;241m*\u001b[39m\u001b[38;5;241m*\u001b[39mkwargs)\n\u001b[0;32m     66\u001b[0m \u001b[38;5;28;01mexcept\u001b[39;00m \u001b[38;5;167;01mException\u001b[39;00m \u001b[38;5;28;01mas\u001b[39;00m e:\n\u001b[0;32m     67\u001b[0m     filtered_tb \u001b[38;5;241m=\u001b[39m _process_traceback_frames(e\u001b[38;5;241m.\u001b[39m__traceback__)\n",
      "File \u001b[1;32mD:\\anaconda\\lib\\site-packages\\keras\\engine\\training.py:1564\u001b[0m, in \u001b[0;36mModel.fit\u001b[1;34m(self, x, y, batch_size, epochs, verbose, callbacks, validation_split, validation_data, shuffle, class_weight, sample_weight, initial_epoch, steps_per_epoch, validation_steps, validation_batch_size, validation_freq, max_queue_size, workers, use_multiprocessing)\u001b[0m\n\u001b[0;32m   1556\u001b[0m \u001b[38;5;28;01mwith\u001b[39;00m tf\u001b[38;5;241m.\u001b[39mprofiler\u001b[38;5;241m.\u001b[39mexperimental\u001b[38;5;241m.\u001b[39mTrace(\n\u001b[0;32m   1557\u001b[0m     \u001b[38;5;124m\"\u001b[39m\u001b[38;5;124mtrain\u001b[39m\u001b[38;5;124m\"\u001b[39m,\n\u001b[0;32m   1558\u001b[0m     epoch_num\u001b[38;5;241m=\u001b[39mepoch,\n\u001b[1;32m   (...)\u001b[0m\n\u001b[0;32m   1561\u001b[0m     _r\u001b[38;5;241m=\u001b[39m\u001b[38;5;241m1\u001b[39m,\n\u001b[0;32m   1562\u001b[0m ):\n\u001b[0;32m   1563\u001b[0m     callbacks\u001b[38;5;241m.\u001b[39mon_train_batch_begin(step)\n\u001b[1;32m-> 1564\u001b[0m     tmp_logs \u001b[38;5;241m=\u001b[39m \u001b[38;5;28;43mself\u001b[39;49m\u001b[38;5;241;43m.\u001b[39;49m\u001b[43mtrain_function\u001b[49m\u001b[43m(\u001b[49m\u001b[43miterator\u001b[49m\u001b[43m)\u001b[49m\n\u001b[0;32m   1565\u001b[0m     \u001b[38;5;28;01mif\u001b[39;00m data_handler\u001b[38;5;241m.\u001b[39mshould_sync:\n\u001b[0;32m   1566\u001b[0m         context\u001b[38;5;241m.\u001b[39masync_wait()\n",
      "File \u001b[1;32mD:\\anaconda\\lib\\site-packages\\tensorflow\\python\\util\\traceback_utils.py:150\u001b[0m, in \u001b[0;36mfilter_traceback.<locals>.error_handler\u001b[1;34m(*args, **kwargs)\u001b[0m\n\u001b[0;32m    148\u001b[0m filtered_tb \u001b[38;5;241m=\u001b[39m \u001b[38;5;28;01mNone\u001b[39;00m\n\u001b[0;32m    149\u001b[0m \u001b[38;5;28;01mtry\u001b[39;00m:\n\u001b[1;32m--> 150\u001b[0m   \u001b[38;5;28;01mreturn\u001b[39;00m fn(\u001b[38;5;241m*\u001b[39margs, \u001b[38;5;241m*\u001b[39m\u001b[38;5;241m*\u001b[39mkwargs)\n\u001b[0;32m    151\u001b[0m \u001b[38;5;28;01mexcept\u001b[39;00m \u001b[38;5;167;01mException\u001b[39;00m \u001b[38;5;28;01mas\u001b[39;00m e:\n\u001b[0;32m    152\u001b[0m   filtered_tb \u001b[38;5;241m=\u001b[39m _process_traceback_frames(e\u001b[38;5;241m.\u001b[39m__traceback__)\n",
      "File \u001b[1;32mD:\\anaconda\\lib\\site-packages\\tensorflow\\python\\eager\\def_function.py:915\u001b[0m, in \u001b[0;36mFunction.__call__\u001b[1;34m(self, *args, **kwds)\u001b[0m\n\u001b[0;32m    912\u001b[0m compiler \u001b[38;5;241m=\u001b[39m \u001b[38;5;124m\"\u001b[39m\u001b[38;5;124mxla\u001b[39m\u001b[38;5;124m\"\u001b[39m \u001b[38;5;28;01mif\u001b[39;00m \u001b[38;5;28mself\u001b[39m\u001b[38;5;241m.\u001b[39m_jit_compile \u001b[38;5;28;01melse\u001b[39;00m \u001b[38;5;124m\"\u001b[39m\u001b[38;5;124mnonXla\u001b[39m\u001b[38;5;124m\"\u001b[39m\n\u001b[0;32m    914\u001b[0m \u001b[38;5;28;01mwith\u001b[39;00m OptionalXlaContext(\u001b[38;5;28mself\u001b[39m\u001b[38;5;241m.\u001b[39m_jit_compile):\n\u001b[1;32m--> 915\u001b[0m   result \u001b[38;5;241m=\u001b[39m \u001b[38;5;28mself\u001b[39m\u001b[38;5;241m.\u001b[39m_call(\u001b[38;5;241m*\u001b[39margs, \u001b[38;5;241m*\u001b[39m\u001b[38;5;241m*\u001b[39mkwds)\n\u001b[0;32m    917\u001b[0m new_tracing_count \u001b[38;5;241m=\u001b[39m \u001b[38;5;28mself\u001b[39m\u001b[38;5;241m.\u001b[39mexperimental_get_tracing_count()\n\u001b[0;32m    918\u001b[0m without_tracing \u001b[38;5;241m=\u001b[39m (tracing_count \u001b[38;5;241m==\u001b[39m new_tracing_count)\n",
      "File \u001b[1;32mD:\\anaconda\\lib\\site-packages\\tensorflow\\python\\eager\\def_function.py:947\u001b[0m, in \u001b[0;36mFunction._call\u001b[1;34m(self, *args, **kwds)\u001b[0m\n\u001b[0;32m    944\u001b[0m   \u001b[38;5;28mself\u001b[39m\u001b[38;5;241m.\u001b[39m_lock\u001b[38;5;241m.\u001b[39mrelease()\n\u001b[0;32m    945\u001b[0m   \u001b[38;5;66;03m# In this case we have created variables on the first call, so we run the\u001b[39;00m\n\u001b[0;32m    946\u001b[0m   \u001b[38;5;66;03m# defunned version which is guaranteed to never create variables.\u001b[39;00m\n\u001b[1;32m--> 947\u001b[0m   \u001b[38;5;28;01mreturn\u001b[39;00m \u001b[38;5;28mself\u001b[39m\u001b[38;5;241m.\u001b[39m_stateless_fn(\u001b[38;5;241m*\u001b[39margs, \u001b[38;5;241m*\u001b[39m\u001b[38;5;241m*\u001b[39mkwds)  \u001b[38;5;66;03m# pylint: disable=not-callable\u001b[39;00m\n\u001b[0;32m    948\u001b[0m \u001b[38;5;28;01melif\u001b[39;00m \u001b[38;5;28mself\u001b[39m\u001b[38;5;241m.\u001b[39m_stateful_fn \u001b[38;5;129;01mis\u001b[39;00m \u001b[38;5;129;01mnot\u001b[39;00m \u001b[38;5;28;01mNone\u001b[39;00m:\n\u001b[0;32m    949\u001b[0m   \u001b[38;5;66;03m# Release the lock early so that multiple threads can perform the call\u001b[39;00m\n\u001b[0;32m    950\u001b[0m   \u001b[38;5;66;03m# in parallel.\u001b[39;00m\n\u001b[0;32m    951\u001b[0m   \u001b[38;5;28mself\u001b[39m\u001b[38;5;241m.\u001b[39m_lock\u001b[38;5;241m.\u001b[39mrelease()\n",
      "File \u001b[1;32mD:\\anaconda\\lib\\site-packages\\tensorflow\\python\\eager\\function.py:2496\u001b[0m, in \u001b[0;36mFunction.__call__\u001b[1;34m(self, *args, **kwargs)\u001b[0m\n\u001b[0;32m   2493\u001b[0m \u001b[38;5;28;01mwith\u001b[39;00m \u001b[38;5;28mself\u001b[39m\u001b[38;5;241m.\u001b[39m_lock:\n\u001b[0;32m   2494\u001b[0m   (graph_function,\n\u001b[0;32m   2495\u001b[0m    filtered_flat_args) \u001b[38;5;241m=\u001b[39m \u001b[38;5;28mself\u001b[39m\u001b[38;5;241m.\u001b[39m_maybe_define_function(args, kwargs)\n\u001b[1;32m-> 2496\u001b[0m \u001b[38;5;28;01mreturn\u001b[39;00m \u001b[43mgraph_function\u001b[49m\u001b[38;5;241;43m.\u001b[39;49m\u001b[43m_call_flat\u001b[49m\u001b[43m(\u001b[49m\n\u001b[0;32m   2497\u001b[0m \u001b[43m    \u001b[49m\u001b[43mfiltered_flat_args\u001b[49m\u001b[43m,\u001b[49m\u001b[43m \u001b[49m\u001b[43mcaptured_inputs\u001b[49m\u001b[38;5;241;43m=\u001b[39;49m\u001b[43mgraph_function\u001b[49m\u001b[38;5;241;43m.\u001b[39;49m\u001b[43mcaptured_inputs\u001b[49m\u001b[43m)\u001b[49m\n",
      "File \u001b[1;32mD:\\anaconda\\lib\\site-packages\\tensorflow\\python\\eager\\function.py:1862\u001b[0m, in \u001b[0;36mConcreteFunction._call_flat\u001b[1;34m(self, args, captured_inputs, cancellation_manager)\u001b[0m\n\u001b[0;32m   1858\u001b[0m possible_gradient_type \u001b[38;5;241m=\u001b[39m gradients_util\u001b[38;5;241m.\u001b[39mPossibleTapeGradientTypes(args)\n\u001b[0;32m   1859\u001b[0m \u001b[38;5;28;01mif\u001b[39;00m (possible_gradient_type \u001b[38;5;241m==\u001b[39m gradients_util\u001b[38;5;241m.\u001b[39mPOSSIBLE_GRADIENT_TYPES_NONE\n\u001b[0;32m   1860\u001b[0m     \u001b[38;5;129;01mand\u001b[39;00m executing_eagerly):\n\u001b[0;32m   1861\u001b[0m   \u001b[38;5;66;03m# No tape is watching; skip to running the function.\u001b[39;00m\n\u001b[1;32m-> 1862\u001b[0m   \u001b[38;5;28;01mreturn\u001b[39;00m \u001b[38;5;28mself\u001b[39m\u001b[38;5;241m.\u001b[39m_build_call_outputs(\u001b[38;5;28;43mself\u001b[39;49m\u001b[38;5;241;43m.\u001b[39;49m\u001b[43m_inference_function\u001b[49m\u001b[38;5;241;43m.\u001b[39;49m\u001b[43mcall\u001b[49m\u001b[43m(\u001b[49m\n\u001b[0;32m   1863\u001b[0m \u001b[43m      \u001b[49m\u001b[43mctx\u001b[49m\u001b[43m,\u001b[49m\u001b[43m \u001b[49m\u001b[43margs\u001b[49m\u001b[43m,\u001b[49m\u001b[43m \u001b[49m\u001b[43mcancellation_manager\u001b[49m\u001b[38;5;241;43m=\u001b[39;49m\u001b[43mcancellation_manager\u001b[49m\u001b[43m)\u001b[49m)\n\u001b[0;32m   1864\u001b[0m forward_backward \u001b[38;5;241m=\u001b[39m \u001b[38;5;28mself\u001b[39m\u001b[38;5;241m.\u001b[39m_select_forward_and_backward_functions(\n\u001b[0;32m   1865\u001b[0m     args,\n\u001b[0;32m   1866\u001b[0m     possible_gradient_type,\n\u001b[0;32m   1867\u001b[0m     executing_eagerly)\n\u001b[0;32m   1868\u001b[0m forward_function, args_with_tangents \u001b[38;5;241m=\u001b[39m forward_backward\u001b[38;5;241m.\u001b[39mforward()\n",
      "File \u001b[1;32mD:\\anaconda\\lib\\site-packages\\tensorflow\\python\\eager\\function.py:499\u001b[0m, in \u001b[0;36m_EagerDefinedFunction.call\u001b[1;34m(self, ctx, args, cancellation_manager)\u001b[0m\n\u001b[0;32m    497\u001b[0m \u001b[38;5;28;01mwith\u001b[39;00m _InterpolateFunctionError(\u001b[38;5;28mself\u001b[39m):\n\u001b[0;32m    498\u001b[0m   \u001b[38;5;28;01mif\u001b[39;00m cancellation_manager \u001b[38;5;129;01mis\u001b[39;00m \u001b[38;5;28;01mNone\u001b[39;00m:\n\u001b[1;32m--> 499\u001b[0m     outputs \u001b[38;5;241m=\u001b[39m \u001b[43mexecute\u001b[49m\u001b[38;5;241;43m.\u001b[39;49m\u001b[43mexecute\u001b[49m\u001b[43m(\u001b[49m\n\u001b[0;32m    500\u001b[0m \u001b[43m        \u001b[49m\u001b[38;5;28;43mstr\u001b[39;49m\u001b[43m(\u001b[49m\u001b[38;5;28;43mself\u001b[39;49m\u001b[38;5;241;43m.\u001b[39;49m\u001b[43msignature\u001b[49m\u001b[38;5;241;43m.\u001b[39;49m\u001b[43mname\u001b[49m\u001b[43m)\u001b[49m\u001b[43m,\u001b[49m\n\u001b[0;32m    501\u001b[0m \u001b[43m        \u001b[49m\u001b[43mnum_outputs\u001b[49m\u001b[38;5;241;43m=\u001b[39;49m\u001b[38;5;28;43mself\u001b[39;49m\u001b[38;5;241;43m.\u001b[39;49m\u001b[43m_num_outputs\u001b[49m\u001b[43m,\u001b[49m\n\u001b[0;32m    502\u001b[0m \u001b[43m        \u001b[49m\u001b[43minputs\u001b[49m\u001b[38;5;241;43m=\u001b[39;49m\u001b[43margs\u001b[49m\u001b[43m,\u001b[49m\n\u001b[0;32m    503\u001b[0m \u001b[43m        \u001b[49m\u001b[43mattrs\u001b[49m\u001b[38;5;241;43m=\u001b[39;49m\u001b[43mattrs\u001b[49m\u001b[43m,\u001b[49m\n\u001b[0;32m    504\u001b[0m \u001b[43m        \u001b[49m\u001b[43mctx\u001b[49m\u001b[38;5;241;43m=\u001b[39;49m\u001b[43mctx\u001b[49m\u001b[43m)\u001b[49m\n\u001b[0;32m    505\u001b[0m   \u001b[38;5;28;01melse\u001b[39;00m:\n\u001b[0;32m    506\u001b[0m     outputs \u001b[38;5;241m=\u001b[39m execute\u001b[38;5;241m.\u001b[39mexecute_with_cancellation(\n\u001b[0;32m    507\u001b[0m         \u001b[38;5;28mstr\u001b[39m(\u001b[38;5;28mself\u001b[39m\u001b[38;5;241m.\u001b[39msignature\u001b[38;5;241m.\u001b[39mname),\n\u001b[0;32m    508\u001b[0m         num_outputs\u001b[38;5;241m=\u001b[39m\u001b[38;5;28mself\u001b[39m\u001b[38;5;241m.\u001b[39m_num_outputs,\n\u001b[1;32m   (...)\u001b[0m\n\u001b[0;32m    511\u001b[0m         ctx\u001b[38;5;241m=\u001b[39mctx,\n\u001b[0;32m    512\u001b[0m         cancellation_manager\u001b[38;5;241m=\u001b[39mcancellation_manager)\n",
      "File \u001b[1;32mD:\\anaconda\\lib\\site-packages\\tensorflow\\python\\eager\\execute.py:54\u001b[0m, in \u001b[0;36mquick_execute\u001b[1;34m(op_name, num_outputs, inputs, attrs, ctx, name)\u001b[0m\n\u001b[0;32m     52\u001b[0m \u001b[38;5;28;01mtry\u001b[39;00m:\n\u001b[0;32m     53\u001b[0m   ctx\u001b[38;5;241m.\u001b[39mensure_initialized()\n\u001b[1;32m---> 54\u001b[0m   tensors \u001b[38;5;241m=\u001b[39m \u001b[43mpywrap_tfe\u001b[49m\u001b[38;5;241;43m.\u001b[39;49m\u001b[43mTFE_Py_Execute\u001b[49m\u001b[43m(\u001b[49m\u001b[43mctx\u001b[49m\u001b[38;5;241;43m.\u001b[39;49m\u001b[43m_handle\u001b[49m\u001b[43m,\u001b[49m\u001b[43m \u001b[49m\u001b[43mdevice_name\u001b[49m\u001b[43m,\u001b[49m\u001b[43m \u001b[49m\u001b[43mop_name\u001b[49m\u001b[43m,\u001b[49m\n\u001b[0;32m     55\u001b[0m \u001b[43m                                      \u001b[49m\u001b[43minputs\u001b[49m\u001b[43m,\u001b[49m\u001b[43m \u001b[49m\u001b[43mattrs\u001b[49m\u001b[43m,\u001b[49m\u001b[43m \u001b[49m\u001b[43mnum_outputs\u001b[49m\u001b[43m)\u001b[49m\n\u001b[0;32m     56\u001b[0m \u001b[38;5;28;01mexcept\u001b[39;00m core\u001b[38;5;241m.\u001b[39m_NotOkStatusException \u001b[38;5;28;01mas\u001b[39;00m e:\n\u001b[0;32m     57\u001b[0m   \u001b[38;5;28;01mif\u001b[39;00m name \u001b[38;5;129;01mis\u001b[39;00m \u001b[38;5;129;01mnot\u001b[39;00m \u001b[38;5;28;01mNone\u001b[39;00m:\n",
      "\u001b[1;31mKeyboardInterrupt\u001b[0m: "
     ]
    }
   ],
   "source": [
    "# Training.\n",
    "a = []\n",
    "b = []  \n",
    "\n",
    "epochs = 40 \n",
    "batch_size = 256\n",
    "for epoch in range(epochs):\n",
    "    model.fit(x, y, batch_size=batch_size, epochs=1)\n",
    "    print()\n",
    "    print(\"Generating text after epoch: %d\" % epoch)\n",
    "\n",
    "    start_index = random.randint(0, len(text) - maxlen - 1)\n",
    "    for diversity in [0.2, 0.5, 1.0, 1.2]:\n",
    "        print(\"...Diversity:\", diversity)\n",
    "\n",
    "        generated = \"\"\n",
    "        sentence = text[start_index : start_index + maxlen]\n",
    "        print('...Generating with seed: \"' + sentence + '\"')\n",
    "        a.append(diversity)#Add the generated \"diversity\" to the list\n",
    "        \n",
    "        for i in range(400):\n",
    "            x_pred = np.zeros((1, maxlen, len(chars)))\n",
    "            for t, char in enumerate(sentence):\n",
    "                x_pred[0, t, char_indices[char]] = 1.0\n",
    "            preds = model.predict(x_pred, verbose=0)[0]\n",
    "            next_index = sample(preds, diversity)\n",
    "            next_char = indices_char[next_index]\n",
    "            sentence = sentence[1:] + next_char\n",
    "            generated += next_char\n",
    "        print(\"...Generated: \", generated)\n",
    "        b.append(generated) # Add the generated \"generated\" content to the list\n",
    "        print()"
   ]
  },
  {
   "cell_type": "markdown",
   "id": "fa695192",
   "metadata": {},
   "source": [
    "Save the generated content as a csv file for subsequent calls"
   ]
  },
  {
   "cell_type": "code",
   "execution_count": 12,
   "id": "4a2173ed",
   "metadata": {},
   "outputs": [],
   "source": [
    "import pandas as pd\n",
    "\n",
    "#The key value in the dictionary is the column name in the csv\n",
    "dataframe = pd.DataFrame({'Diversity':a,'generate_content':b})\n",
    "\n",
    "#Store DataFrame as csv, index indicates whether to display row names, default=True\n",
    "dataframe.to_csv(\"data/LSTM_Generate_1.csv\",index=False,sep=',')"
   ]
  }
 ],
 "metadata": {
  "kernelspec": {
   "display_name": "Python 3 (ipykernel)",
   "language": "python",
   "name": "python3"
  },
  "language_info": {
   "codemirror_mode": {
    "name": "ipython",
    "version": 3
   },
   "file_extension": ".py",
   "mimetype": "text/x-python",
   "name": "python",
   "nbconvert_exporter": "python",
   "pygments_lexer": "ipython3",
   "version": "3.9.12"
  }
 },
 "nbformat": 4,
 "nbformat_minor": 5
}
